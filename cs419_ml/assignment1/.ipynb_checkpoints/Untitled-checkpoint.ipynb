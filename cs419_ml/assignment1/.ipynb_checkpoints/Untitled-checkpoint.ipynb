{
 "cells": [
  {
   "cell_type": "code",
   "execution_count": 17,
   "metadata": {},
   "outputs": [],
   "source": [
    "import numpy as np\n",
    "import pandas as pd\n",
    "import matplotlib\n",
    "import matplotlib.pyplot as plt\n",
    "\n",
    "# Global variables\n",
    "phase = \"train\"  # phase can be set to either \"train\" or \"eval\"\n",
    "\n",
    "\"\"\" \n",
    "You are allowed to change the names of function \"arguments\" as per your convenience, \n",
    "but it should be meaningful.\n",
    "\n",
    "E.g. y, y_train, y_test, output_var, target, output_label, ... are acceptable\n",
    "but abc, a, b, etc. are not.\n",
    "\n",
    "\"\"\"\n",
    "\n",
    "\n",
    "def normalize(df):\n",
    "    global phase, means, ranges\n",
    "    df = np.array(df, \"float64\")\n",
    "    if phase == \"train\":\n",
    "        means = np.mean(df, axis=0)\n",
    "        ranges = np.ptp(df, axis=0)\n",
    "        zeros = np.where(ranges == 0)\n",
    "        ranges[zeros] = 1\n",
    "        means[zeros] = 0\n",
    "        return (df - means) / ranges\n",
    "    return (df - means) / ranges\n",
    "\n",
    "\n",
    "def one_hot(df, col_name, vals):\n",
    "    if len(vals) == 2:\n",
    "        val = vals[0]\n",
    "        df[col_name +\n",
    "            \"_binary\"] = df[col_name].apply(lambda x: 1 if x == val else 0)\n",
    "        return df.drop(col_name, axis=1)\n",
    "    for val in vals:\n",
    "        df[col_name + \"_\" +\n",
    "            val] = df[col_name].apply(lambda x: 1 if x == val else 0)\n",
    "    return df.drop(col_name, axis=1)\n",
    "\n",
    "\n",
    "def preprocess(df):\n",
    "    df[\"bias\"] = 1\n",
    "\n",
    "    df[\"company\"] = df[\"name\"].apply(lambda x: x.split()[0])\n",
    "\n",
    "    fuel_types = [\"Diesel\", \"Petrol\", \"CNG\", \"LPG\"]\n",
    "    seller_types = ['Individual', 'Dealer', 'Trustmark Dealer']\n",
    "    transmission_types = ['Manual', 'Automatic']\n",
    "    owner_types = ['First Owner', 'Second Owner', 'Third Owner',\n",
    "                   'Fourth & Above Owner', 'Test Drive Car']\n",
    "    company_types = ['Maruti', 'Skoda', 'Honda', 'Hyundai',\n",
    "                     'Toyota', 'Ford', 'Renault', 'Mahindra', 'Tata',\n",
    "                     'Chevrolet', 'Fiat', 'Datsun', 'Jeep', 'Mercedes-Benz',\n",
    "                     'Mitsubishi', 'Audi', 'Volkswagen', 'BMW', 'Nissan',\n",
    "                     'Lexus', 'Jaguar', 'Land', 'MG', 'Volvo', 'Daewoo',\n",
    "                     'Kia', 'Force', 'Ambassador', 'Ashok', 'Isuzu', 'Opel']\n",
    "\n",
    "    col_and_type_dict = {\n",
    "        \"fuel\": fuel_types,\n",
    "        \"seller_type\": seller_types,\n",
    "        \"transmission\": transmission_types,\n",
    "        \"owner\": owner_types,\n",
    "        \"company\": company_types\n",
    "    }\n",
    "\n",
    "    for col_name in col_and_type_dict.keys():\n",
    "        df = one_hot(df, col_name, col_and_type_dict[col_name])\n",
    "\n",
    "    df[\"mileage\"].replace(np.nan, \"0 kmpl\", regex=True, inplace=True)\n",
    "    df[\"mileage\"] = df[\"mileage\"].apply(lambda x: float(x.split()[0]))\n",
    "    df[\"engine\"].replace(np.nan, \"0 kmpl\", regex=True, inplace=True)\n",
    "    df[\"engine\"] = df[\"engine\"].apply(lambda x: float(x.split()[0]))\n",
    "\n",
    "    df.replace(np.nan, 0, inplace=True)\n",
    "\n",
    "    df.drop([\"Index\", \"name\", \"torque\"], axis=1, inplace=True)\n",
    "\n",
    "    return normalize(df)\n",
    "\n",
    "\n",
    "def preprocess_basis(df):\n",
    "    df[\"bias\"] = 1\n",
    "\n",
    "    df[\"company\"] = df[\"name\"].apply(lambda x: x.split()[0])\n",
    "\n",
    "    fuel_types = [\"Diesel\", \"Petrol\", \"CNG\", \"LPG\"]\n",
    "    seller_types = ['Individual', 'Dealer', 'Trustmark Dealer']\n",
    "    transmission_types = ['Manual', 'Automatic']\n",
    "    owner_types = ['First Owner', 'Second Owner', 'Third Owner',\n",
    "                   'Fourth & Above Owner', 'Test Drive Car']\n",
    "    company_types = ['Maruti', 'Skoda', 'Honda', 'Hyundai',\n",
    "                     'Toyota', 'Ford', 'Renault', 'Mahindra', 'Tata',\n",
    "                     'Chevrolet', 'Fiat', 'Datsun', 'Jeep', 'Mercedes-Benz',\n",
    "                     'Mitsubishi', 'Audi', 'Volkswagen', 'BMW', 'Nissan',\n",
    "                     'Lexus', 'Jaguar', 'Land', 'MG', 'Volvo', 'Daewoo',\n",
    "                     'Kia', 'Force', 'Ambassador', 'Ashok', 'Isuzu', 'Opel']\n",
    "\n",
    "    col_and_type_dict = {\n",
    "        \"fuel\": fuel_types,\n",
    "        \"seller_type\": seller_types,\n",
    "        \"transmission\": transmission_types,\n",
    "        \"owner\": owner_types,\n",
    "        \"company\": company_types\n",
    "    }\n",
    "\n",
    "    for col_name in col_and_type_dict.keys():\n",
    "        df = one_hot(df, col_name, col_and_type_dict[col_name])\n",
    "\n",
    "    df[\"mileage\"].replace(np.nan, \"0 kmpl\", regex=True, inplace=True)\n",
    "    df[\"mileage\"] = df[\"mileage\"].apply(lambda x: float(x.split()[0]))\n",
    "    df[\"engine\"].replace(np.nan, \"0 kmpl\", regex=True, inplace=True)\n",
    "    df[\"engine\"] = df[\"engine\"].apply(lambda x: float(x.split()[0]))\n",
    "    df[\"year\"] = df[\"year\"].apply(lambda x: np.log(x))\n",
    "    df[\"km_driven\"] = df[\"km_driven\"].apply(lambda x: np.log(x))\n",
    "    df[\"seats\"] = df[\"seats\"].apply(lambda x: np.exp(x))\n",
    "    df.replace(np.nan, 0, inplace=True)\n",
    "\n",
    "    df.drop([\"Index\", \"name\", \"torque\"], axis=1, inplace=True)\n",
    "\n",
    "    return normalize(df)\n",
    "\n",
    "\n",
    "def get_features(file_path):\n",
    "    # Given a file path , return feature matrix and target labels\n",
    "    global phase\n",
    "    df = pd.read_csv(file_path)\n",
    "    if phase != \"test\":\n",
    "        phi = preprocess(df.drop(\"selling_price\", axis=1))\n",
    "        y = df[\"selling_price\"].to_numpy()\n",
    "        return phi, y\n",
    "    phi = preprocess(df)\n",
    "    return phi, None\n",
    "\n",
    "\n",
    "def get_features_basis(file_path):\n",
    "    # Given a file path , return feature matrix and target labels\n",
    "    global phase\n",
    "    df = pd.read_csv(file_path)\n",
    "    if phase != \"test\":\n",
    "        phi = preprocess_basis(df.drop(\"selling_price\", axis=1))\n",
    "        y = df[\"selling_price\"].to_numpy()\n",
    "        return phi, y\n",
    "    phi = preprocess_basis(df)\n",
    "    return phi, None\n",
    "\n",
    "\n",
    "def compute_RMSE(phi, w, y):\n",
    "    # Root Mean Squared Error\n",
    "    diff = phi@w - y\n",
    "    error = (diff * diff).sum() / len(diff)\n",
    "    error = np.sqrt(error)\n",
    "    return error\n",
    "\n",
    "\n",
    "def generate_output(phi_test, w):\n",
    "    df = pd.DataFrame(phi_test@w)\n",
    "    df[0] = df[0].apply(lambda x: max(-x / 2, x))\n",
    "    df.to_csv(\"output.csv\")\n",
    "\n",
    "\n",
    "def closed_soln(phi, y):\n",
    "    # Function returns the solution w for Xw=y.\n",
    "    return np.linalg.pinv(phi).dot(y)\n",
    "\n",
    "\n",
    "def gradient_descent(phi, y, phi_dev, y_dev):\n",
    "    # Implement gradient_descent using Mean Squared Error Loss\n",
    "    # You may choose to use the dev set to determine point of convergence\n",
    "    w = np.random.normal(0, 0.1, phi.shape[1])\n",
    "    epochs = int(1e5)  # max_num_of_epochs\n",
    "    lr = 2e-4\n",
    "    prev_val_rmse = compute_RMSE(phi_dev, w, y_dev)\n",
    "    ch = []\n",
    "    for ep in range(epochs):\n",
    "        err = (phi.T@(phi@w - y))\n",
    "        w = w - lr * err\n",
    "        val_rmse = compute_RMSE(phi_dev, w, y_dev)\n",
    "        if prev_val_rmse < val_rmse:\n",
    "            break\n",
    "        prev_val_rmse = val_rmse\n",
    "        # ch.append(val_rmse)\n",
    "    # print(ep)\n",
    "    # plt.plot(ch[300:])\n",
    "    # plt.show()\n",
    "    return w\n",
    "\n",
    "\n",
    "def sgd(phi, y, phi_dev, y_dev):\n",
    "    # Implement stochastic gradient_descent using Mean Squared Error Loss\n",
    "    # You may choose to use the dev set to determine point of convergence\n",
    "    w = np.random.normal(0, 0.1, phi.shape[1])\n",
    "    epochs = int(1e5)  # max_num_of_epochs\n",
    "    lr = 1e-4\n",
    "    prev_val_rmse = compute_RMSE(phi_dev, w, y_dev)\n",
    "    ch = []\n",
    "    perm = np.random.RandomState(seed=0).permutation(len(phi))\n",
    "    batch_size = 128\n",
    "    for ep in range(epochs):\n",
    "        phi_, y_ = phi[perm], y[perm]\n",
    "        for batch_i in range(len(phi) // batch_size):\n",
    "            low, high = batch_i * batch_size, (batch_i + 1) * batch_size\n",
    "            err = (phi_[low:high].T@(phi_[low:high]@w - y_[low:high]))\n",
    "            w = w - lr * err\n",
    "        val_rmse = compute_RMSE(phi_dev, w, y_dev)\n",
    "        if prev_val_rmse < val_rmse:\n",
    "            break\n",
    "        prev_val_rmse = val_rmse\n",
    "    #     ch.append(val_rmse)\n",
    "    # print(ep)\n",
    "    # plt.plot(ch[300:])\n",
    "    # plt.show()\n",
    "    return w\n",
    "\n",
    "\n",
    "def pnorm(phi, y, phi_dev, y_dev, p):\n",
    "    # Implement gradient_descent with p-norm regularisation using Mean Squared Error Loss\n",
    "    # You may choose to use the dev set to determine point of convergence\n",
    "    w = np.random.normal(0, 0.1, phi.shape[1])\n",
    "    epochs = int(1e5)  # max_num_of_epochs\n",
    "    lr = 1e-4\n",
    "    lambda_reg2 = 2e-1\n",
    "    lambda_reg4 = 3e-17\n",
    "    prev_val_rmse = compute_RMSE(phi_dev, w, y_dev)\n",
    "    ch = []\n",
    "    for ep in range(epochs):\n",
    "        if p == 2:\n",
    "            err = (phi.T@(phi@w - y)) + p * w**(p - 2) * lambda_reg2 * w\n",
    "        else:\n",
    "            err = (phi.T@(phi@w - y)) + p * w**(p - 2) * lambda_reg4 * w\n",
    "        w = w - lr * err\n",
    "        val_rmse = compute_RMSE(phi_dev, w, y_dev)\n",
    "        if prev_val_rmse < val_rmse:\n",
    "            break\n",
    "        prev_val_rmse = val_rmse\n",
    "    return w\n",
    "\n",
    "\n",
    "def plot(phi, y, phi_dev, y_dev):\n",
    "    sizes = [2000, 2500, 3000, len(phi)]\n",
    "    rmses = []\n",
    "    for size in sizes:\n",
    "        phi_ = phi[:size]\n",
    "        y_ = y[:size]\n",
    "        w = pnorm(phi_, y_, phi_dev, y_dev, 2)\n",
    "        rmses.append(compute_RMSE(phi_dev, w, y_dev))\n",
    "    plt.plot(sizes, rmses)\n",
    "    plt.xlabel(xlabel=\"Training Size\")\n",
    "    plt.ylabel(ylabel=\"Validation RMSE\")\n",
    "    plt.savefig(\"rmse_vs_size.png\")\n",
    "    plt.show()\n",
    "\n",
    "\n",
    "def main():\n",
    "    \"\"\"\n",
    "    The following steps will be run in sequence by the autograder.\n",
    "    \"\"\"\n",
    "    global phase\n",
    "    ######## Task 1 #########\n",
    "    phase = \"train\"\n",
    "    phi, y = get_features('train.csv')\n",
    "    phase = \"eval\"\n",
    "    phi_dev, y_dev = get_features('dev.csv')\n",
    "    # plot(phi, y, phi_dev, y_dev)\n",
    "    w1 = closed_soln(phi, y)\n",
    "    w2 = gradient_descent(phi, y, phi_dev, y_dev)\n",
    "    r1 = compute_RMSE(phi_dev, w1, y_dev)\n",
    "    r2 = compute_RMSE(phi_dev, w2, y_dev)\n",
    "    print('1a: ')\n",
    "    print(abs(r1 - r2))\n",
    "    w3 = sgd(phi, y, phi_dev, y_dev)\n",
    "    r3 = compute_RMSE(phi_dev, w3, y_dev)\n",
    "    print('1c: ')\n",
    "    print(abs(r2 - r3))\n",
    "    print(r1, r2, r3)\n",
    "\n",
    "    ######## Task 2 #########\n",
    "    w_p2 = pnorm(phi, y, phi_dev, y_dev, 2)\n",
    "    w_p4 = pnorm(phi, y, phi_dev, y_dev, 4)\n",
    "    r_p2 = compute_RMSE(phi_dev, w_p2, y_dev)\n",
    "    r_p4 = compute_RMSE(phi_dev, w_p4, y_dev)\n",
    "    print('2: pnorm2')\n",
    "    print(r_p2)\n",
    "    print('2: pnorm4')\n",
    "    print(r_p4)\n",
    "\n",
    "    ######## Task 3 #########\n",
    "    phase = \"train\"\n",
    "    phi_basis, y = get_features_basis('train.csv')\n",
    "    phase = \"eval\"\n",
    "    phi_dev, y_dev = get_features_basis('dev.csv')\n",
    "    phase = \"test\"\n",
    "    phi_test, _ = get_features_basis('test.csv')\n",
    "    w_basis = pnorm(phi_basis, y, phi_dev, y_dev, 2)\n",
    "    rmse_basis = compute_RMSE(phi_dev, w_basis, y_dev)\n",
    "    print('Task 3: basis')\n",
    "    print(rmse_basis)\n",
    "\n",
    "    # Task 6\n",
    "    # w_basis_new = pnorm(phi_basis, y, phi_dev, y_dev, 4)\n",
    "    # failed\n",
    "    generate_output(phi_test, w_basis)"
   ]
  },
  {
   "cell_type": "code",
   "execution_count": 21,
   "metadata": {},
   "outputs": [],
   "source": [
    "global phase\n",
    "######## Task 1 #########\n",
    "phase = \"train\"\n",
    "phi, y = get_features_basis('train.csv')\n",
    "phase = \"eval\"\n",
    "phi_dev, y_dev = get_features('dev.csv')\n",
    "# plot(phi, y, phi_dev, y_dev)\n",
    "w1 = closed_soln(phi, y)\n",
    "w2 = gradient_descent(phi, y, phi_dev, y_dev)\n",
    "r1 = compute_RMSE(phi_dev, w1, y_dev)\n",
    "r2 = compute_RMSE(phi_dev, w2, y_dev)"
   ]
  },
  {
   "cell_type": "code",
   "execution_count": 14,
   "metadata": {},
   "outputs": [],
   "source": [
    "df = pd.read_csv(\"train.csv\")\n",
    "df = preprocess(df)"
   ]
  },
  {
   "cell_type": "code",
   "execution_count": 15,
   "metadata": {
    "scrolled": true
   },
   "outputs": [
    {
     "data": {
      "text/plain": [
       "Index(['year', 'selling_price', 'km_driven', 'mileage', 'engine', 'max_power',\n",
       "       'seats', 'bias', 'fuel_Diesel', 'fuel_Petrol', 'fuel_CNG', 'fuel_LPG',\n",
       "       'seller_type_Individual', 'seller_type_Dealer',\n",
       "       'seller_type_Trustmark Dealer', 'transmission_binary',\n",
       "       'owner_First Owner', 'owner_Second Owner', 'owner_Third Owner',\n",
       "       'owner_Fourth & Above Owner', 'owner_Test Drive Car', 'company_Maruti',\n",
       "       'company_Skoda', 'company_Honda', 'company_Hyundai', 'company_Toyota',\n",
       "       'company_Ford', 'company_Renault', 'company_Mahindra', 'company_Tata',\n",
       "       'company_Chevrolet', 'company_Fiat', 'company_Datsun', 'company_Jeep',\n",
       "       'company_Mercedes-Benz', 'company_Mitsubishi', 'company_Audi',\n",
       "       'company_Volkswagen', 'company_BMW', 'company_Nissan', 'company_Lexus',\n",
       "       'company_Jaguar', 'company_Land', 'company_MG', 'company_Volvo',\n",
       "       'company_Daewoo', 'company_Kia', 'company_Force', 'company_Ambassador',\n",
       "       'company_Ashok', 'company_Isuzu', 'company_Opel'],\n",
       "      dtype='object')"
      ]
     },
     "execution_count": 15,
     "metadata": {},
     "output_type": "execute_result"
    }
   ],
   "source": [
    "df.columns"
   ]
  },
  {
   "cell_type": "code",
   "execution_count": 96,
   "metadata": {},
   "outputs": [],
   "source": [
    "def normalize(df):\n",
    "    global phase, means, ranges\n",
    "    df = np.array(df, \"float64\")\n",
    "    if phase == \"train\":\n",
    "        means = np.mean(df, axis=0)\n",
    "        ranges = np.ptp(df, axis=0)\n",
    "        zeros = np.where(ranges == 0)\n",
    "        ranges[zeros] = 1\n",
    "        means[zeros] = 0\n",
    "        return (df - means) / ranges\n",
    "    return (df - means) / ranges"
   ]
  },
  {
   "cell_type": "code",
   "execution_count": 135,
   "metadata": {},
   "outputs": [],
   "source": [
    "def preprocess_basis(df):\n",
    "    df[\"bias\"] = 1\n",
    "\n",
    "    df[\"company\"] = df[\"name\"].apply(lambda x: x.split()[0])\n",
    "\n",
    "    fuel_types = [\"Diesel\", \"Petrol\", \"CNG\", \"LPG\"]\n",
    "    seller_types = ['Individual', 'Dealer', 'Trustmark Dealer']\n",
    "    transmission_types = ['Manual', 'Automatic']\n",
    "    owner_types = ['First Owner', 'Second Owner', 'Third Owner',\n",
    "                   'Fourth & Above Owner', 'Test Drive Car']\n",
    "    company_types = ['Maruti', 'Skoda', 'Honda', 'Hyundai',\n",
    "                     'Toyota', 'Ford', 'Renault', 'Mahindra', 'Tata',\n",
    "                     'Chevrolet', 'Fiat', 'Datsun', 'Jeep', 'Mercedes-Benz',\n",
    "                     'Mitsubishi', 'Audi', 'Volkswagen', 'BMW', 'Nissan',\n",
    "                     'Lexus', 'Jaguar', 'Land', 'MG', 'Volvo', 'Daewoo',\n",
    "                     'Kia', 'Force', 'Ambassador', 'Ashok', 'Isuzu', 'Opel']\n",
    "    seat_types = [ 5.,  4.,  7.,  8.,  6.,  9., 10., 14.]\n",
    "\n",
    "    col_and_type_dict = {\n",
    "        \"fuel\": fuel_types,\n",
    "        \"seller_type\": seller_types,\n",
    "        \"transmission\": transmission_types,\n",
    "        \"owner\": owner_types,\n",
    "        \"company\": company_types\n",
    "    }\n",
    "\n",
    "    for col_name in col_and_type_dict.keys():\n",
    "        df = one_hot(df, col_name, col_and_type_dict[col_name])\n",
    "\n",
    "    df[\"mileage\"].replace(np.nan, \"15 units\", regex=True, inplace=True)\n",
    "    df[\"mileage\"] = df[\"mileage\"].apply(lambda x: float(x.split()[0]))\n",
    "    df[\"mileage\"].replace(0, 15, inplace=True)\n",
    "    df[\"engine\"].replace(np.nan, \"1000 kmpl\", regex=True, inplace=True)\n",
    "    df[\"engine\"] = df[\"engine\"].apply(lambda x: int(x.split()[0]))\n",
    "    df[\"year\"] = df[\"year\"].apply(lambda x: np.log(np.log10(x)))\n",
    "    df[\"mileage\"] = df[\"mileage\"].apply(lambda x: np.log10(x))\n",
    "    df[\"max_power\"].replace(0, 85, inplace=True)\n",
    "    df[\"max_power\"] = df[\"max_power\"].apply(lambda x: np.sqrt(x))\n",
    "    df[\"km_driven\"] = df[\"km_driven\"].apply(lambda x: np.log10(x))\n",
    "    df.replace(np.nan, 0, inplace=True)\n",
    "\n",
    "    df.drop([\"Index\", \"name\", \"torque\"], axis=1, inplace=True)\n",
    "\n",
    "    return normalize(df), df"
   ]
  },
  {
   "cell_type": "code",
   "execution_count": 136,
   "metadata": {},
   "outputs": [
    {
     "data": {
      "image/png": "[encoded data removed]",
      "text/plain": [
       "<Figure size 432x288 with 1 Axes>"
      ]
     },
     "metadata": {
      "needs_background": "light"
     },
     "output_type": "display_data"
    },
    {
     "name": "stdout",
     "output_type": "stream",
     "text": [
      "year\n"
     ]
    },
    {
     "data": {
      "image/png": "[encoded data removed]",
      "text/plain": [
       "<Figure size 432x288 with 1 Axes>"
      ]
     },
     "metadata": {
      "needs_background": "light"
     },
     "output_type": "display_data"
    },
    {
     "name": "stdout",
     "output_type": "stream",
     "text": [
      "km_driven\n"
     ]
    },
    {
     "data": {
      "image/png": "[encoded data removed]",
      "text/plain": [
       "<Figure size 432x288 with 1 Axes>"
      ]
     },
     "metadata": {
      "needs_background": "light"
     },
     "output_type": "display_data"
    },
    {
     "name": "stdout",
     "output_type": "stream",
     "text": [
      "mileage\n"
     ]
    },
    {
     "data": {
      "image/png": "[encoded data removed]",
      "text/plain": [
       "<Figure size 432x288 with 1 Axes>"
      ]
     },
     "metadata": {
      "needs_background": "light"
     },
     "output_type": "display_data"
    },
    {
     "name": "stdout",
     "output_type": "stream",
     "text": [
      "engine\n"
     ]
    },
    {
     "data": {
      "image/png": "[encoded data removed]",
      "text/plain": [
       "<Figure size 432x288 with 1 Axes>"
      ]
     },
     "metadata": {
      "needs_background": "light"
     },
     "output_type": "display_data"
    },
    {
     "name": "stdout",
     "output_type": "stream",
     "text": [
      "max_power\n"
     ]
    },
    {
     "data": {
      "image/png": "[encoded data removed]",
      "text/plain": [
       "<Figure size 432x288 with 1 Axes>"
      ]
     },
     "metadata": {
      "needs_background": "light"
     },
     "output_type": "display_data"
    },
    {
     "name": "stdout",
     "output_type": "stream",
     "text": [
      "seats\n"
     ]
    },
    {
     "data": {
      "image/png": "[encoded data removed]",
      "text/plain": [
       "<Figure size 432x288 with 1 Axes>"
      ]
     },
     "metadata": {
      "needs_background": "light"
     },
     "output_type": "display_data"
    },
    {
     "name": "stdout",
     "output_type": "stream",
     "text": [
      "bias\n"
     ]
    },
    {
     "data": {
      "image/png": "[encoded data removed]",
      "text/plain": [
       "<Figure size 432x288 with 1 Axes>"
      ]
     },
     "metadata": {
      "needs_background": "light"
     },
     "output_type": "display_data"
    },
    {
     "name": "stdout",
     "output_type": "stream",
     "text": [
      "fuel_Diesel\n"
     ]
    }
   ],
   "source": [
    "phase=\"train\"\n",
    "phi, df = preprocess_basis(pd.read_csv('train.csv').drop(\"selling_price\", axis=1))\n",
    "y = pd.read_csv('train.csv')[\"selling_price\"]\n",
    "cols = list(df.columns)\n",
    "for i in range(8):\n",
    "    plt.scatter(phi[:, i], y)\n",
    "    plt.show()\n",
    "    print(cols[i])"
   ]
  },
  {
   "cell_type": "code",
   "execution_count": 137,
   "metadata": {},
   "outputs": [
    {
     "data": {
      "text/plain": [
       "count    4500.000000\n",
       "mean        8.966829\n",
       "std         2.222585\n",
       "min         0.000000\n",
       "25%         8.188406\n",
       "50%         9.044335\n",
       "75%         9.949874\n",
       "max        20.000000\n",
       "Name: max_power, dtype: float64"
      ]
     },
     "execution_count": 137,
     "metadata": {},
     "output_type": "execute_result"
    }
   ],
   "source": [
    "df[\"max_power\"].describe()"
   ]
  },
  {
   "cell_type": "code",
   "execution_count": 138,
   "metadata": {},
   "outputs": [
    {
     "data": {
      "text/plain": [
       "array([ 5.,  4.,  0.,  7.,  8.,  6.,  9., 10., 14.])"
      ]
     },
     "execution_count": 138,
     "metadata": {},
     "output_type": "execute_result"
    }
   ],
   "source": [
    "df[\"seats\"].unique()"
   ]
  }
 ],
 "metadata": {
  "kernelspec": {
   "display_name": "venv01",
   "language": "python",
   "name": "venv01"
  },
  "language_info": {
   "codemirror_mode": {
    "name": "ipython",
    "version": 3
   },
   "file_extension": ".py",
   "mimetype": "text/x-python",
   "name": "python",
   "nbconvert_exporter": "python",
   "pygments_lexer": "ipython3",
   "version": "3.8.2"
  }
 },
 "nbformat": 4,
 "nbformat_minor": 4
}
