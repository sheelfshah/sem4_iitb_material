{
  "nbformat": 4,
  "nbformat_minor": 0,
  "metadata": {
    "colab": {
      "name": "cs419_ass2_part3.ipynb",
      "provenance": [],
      "collapsed_sections": []
    },
    "kernelspec": {
      "name": "python3",
      "display_name": "Python 3"
    },
    "language_info": {
      "name": "python"
    },
    "accelerator": "GPU"
  },
  "cells": [
    {
      "cell_type": "code",
      "metadata": {
        "id": "gwH4ZTTPu1lb"
      },
      "source": [
        "import numpy as np\n",
        "import pandas as pd\n",
        "import sklearn as skl\n",
        "import matplotlib\n",
        "import matplotlib.pyplot as plt\n",
        "from copy import deepcopy as dcopy"
      ],
      "execution_count": null,
      "outputs": []
    },
    {
      "cell_type": "code",
      "metadata": {
        "id": "DWkrs2JExd_h"
      },
      "source": [
        "from sklearn.model_selection import train_test_split\n",
        "from sklearn.metrics import roc_auc_score, confusion_matrix, f1_score"
      ],
      "execution_count": null,
      "outputs": []
    },
    {
      "cell_type": "code",
      "metadata": {
        "id": "dirt_5tkvqCy"
      },
      "source": [
        "import torch\n",
        "from torch.utils.data import Dataset , DataLoader\n",
        "import torch.nn as nn\n",
        "import torch.optim as optim\n",
        "import torch.nn.functional as F"
      ],
      "execution_count": null,
      "outputs": []
    },
    {
      "cell_type": "code",
      "metadata": {
        "id": "5WWvIw4mvjdM"
      },
      "source": [
        "# global var\n",
        "phase = \"train\""
      ],
      "execution_count": null,
      "outputs": []
    },
    {
      "cell_type": "code",
      "metadata": {
        "id": "izLJGQ2rvwW9"
      },
      "source": [
        "def normalize(df):\n",
        "    global phase, means, ranges\n",
        "    df = np.array(df, \"float64\")\n",
        "    if phase == \"train\":\n",
        "        means = np.mean(df, axis=0)\n",
        "        ranges = np.ptp(df, axis=0)\n",
        "        zeros = np.where(ranges == 0)\n",
        "        ranges[zeros] = 1\n",
        "        means[zeros] = 0\n",
        "        return (df - means) / ranges\n",
        "    return (df - means) / ranges"
      ],
      "execution_count": null,
      "outputs": []
    },
    {
      "cell_type": "code",
      "metadata": {
        "id": "TjmQH66swGB9"
      },
      "source": [
        "def one_hot(df, col_name, vals):\n",
        "    if len(vals) == 2:\n",
        "        val = vals[0]\n",
        "        df[col_name +\n",
        "            \"_binary\"] = df[col_name].apply(lambda x: 1 if x == val else 0)\n",
        "        return df.drop(col_name, axis=1)\n",
        "    for val in vals:\n",
        "        df[col_name + \"_\" +\n",
        "            val] = df[col_name].apply(lambda x: 1 if x == val else 0)\n",
        "    return df.drop(col_name, axis=1)"
      ],
      "execution_count": null,
      "outputs": []
    },
    {
      "cell_type": "code",
      "metadata": {
        "id": "BC6USHttwKMU"
      },
      "source": [
        "df = pd.read_csv(\"train.csv\")\n",
        "df_val = pd.read_csv(\"val.csv\")"
      ],
      "execution_count": null,
      "outputs": []
    },
    {
      "cell_type": "code",
      "metadata": {
        "colab": {
          "base_uri": "https://localhost:8080/",
          "height": 219
        },
        "id": "TEdrl9MowX00",
        "outputId": "fd55b934-1084-4809-e963-614c27181541"
      },
      "source": [
        "df.head()"
      ],
      "execution_count": null,
      "outputs": [
        {
          "output_type": "execute_result",
          "data": {
            "text/html": [
              "<div>\n",
              "<style scoped>\n",
              "    .dataframe tbody tr th:only-of-type {\n",
              "        vertical-align: middle;\n",
              "    }\n",
              "\n",
              "    .dataframe tbody tr th {\n",
              "        vertical-align: top;\n",
              "    }\n",
              "\n",
              "    .dataframe thead th {\n",
              "        text-align: right;\n",
              "    }\n",
              "</style>\n",
              "<table border=\"1\" class=\"dataframe\">\n",
              "  <thead>\n",
              "    <tr style=\"text-align: right;\">\n",
              "      <th></th>\n",
              "      <th>x-box</th>\n",
              "      <th>y-box</th>\n",
              "      <th>width</th>\n",
              "      <th>high</th>\n",
              "      <th>onpix</th>\n",
              "      <th>x-bar</th>\n",
              "      <th>y-bar</th>\n",
              "      <th>x2bar</th>\n",
              "      <th>y2bar</th>\n",
              "      <th>xybar</th>\n",
              "      <th>x2ybr</th>\n",
              "      <th>xy2br</th>\n",
              "      <th>x-ege</th>\n",
              "      <th>xegvy</th>\n",
              "      <th>y-ege</th>\n",
              "      <th>yegvx</th>\n",
              "      <th>letter</th>\n",
              "    </tr>\n",
              "  </thead>\n",
              "  <tbody>\n",
              "    <tr>\n",
              "      <th>0</th>\n",
              "      <td>4</td>\n",
              "      <td>7</td>\n",
              "      <td>5</td>\n",
              "      <td>5</td>\n",
              "      <td>4</td>\n",
              "      <td>7</td>\n",
              "      <td>6</td>\n",
              "      <td>7</td>\n",
              "      <td>5</td>\n",
              "      <td>6</td>\n",
              "      <td>4</td>\n",
              "      <td>7</td>\n",
              "      <td>3</td>\n",
              "      <td>7</td>\n",
              "      <td>3</td>\n",
              "      <td>7</td>\n",
              "      <td>N</td>\n",
              "    </tr>\n",
              "    <tr>\n",
              "      <th>1</th>\n",
              "      <td>3</td>\n",
              "      <td>9</td>\n",
              "      <td>4</td>\n",
              "      <td>7</td>\n",
              "      <td>2</td>\n",
              "      <td>7</td>\n",
              "      <td>6</td>\n",
              "      <td>14</td>\n",
              "      <td>5</td>\n",
              "      <td>8</td>\n",
              "      <td>13</td>\n",
              "      <td>7</td>\n",
              "      <td>3</td>\n",
              "      <td>9</td>\n",
              "      <td>0</td>\n",
              "      <td>8</td>\n",
              "      <td>U</td>\n",
              "    </tr>\n",
              "    <tr>\n",
              "      <th>2</th>\n",
              "      <td>3</td>\n",
              "      <td>3</td>\n",
              "      <td>4</td>\n",
              "      <td>4</td>\n",
              "      <td>1</td>\n",
              "      <td>7</td>\n",
              "      <td>7</td>\n",
              "      <td>4</td>\n",
              "      <td>4</td>\n",
              "      <td>7</td>\n",
              "      <td>6</td>\n",
              "      <td>8</td>\n",
              "      <td>3</td>\n",
              "      <td>8</td>\n",
              "      <td>4</td>\n",
              "      <td>8</td>\n",
              "      <td>X</td>\n",
              "    </tr>\n",
              "    <tr>\n",
              "      <th>3</th>\n",
              "      <td>4</td>\n",
              "      <td>5</td>\n",
              "      <td>5</td>\n",
              "      <td>4</td>\n",
              "      <td>5</td>\n",
              "      <td>8</td>\n",
              "      <td>8</td>\n",
              "      <td>4</td>\n",
              "      <td>4</td>\n",
              "      <td>7</td>\n",
              "      <td>7</td>\n",
              "      <td>8</td>\n",
              "      <td>5</td>\n",
              "      <td>10</td>\n",
              "      <td>9</td>\n",
              "      <td>10</td>\n",
              "      <td>S</td>\n",
              "    </tr>\n",
              "    <tr>\n",
              "      <th>4</th>\n",
              "      <td>6</td>\n",
              "      <td>9</td>\n",
              "      <td>8</td>\n",
              "      <td>7</td>\n",
              "      <td>5</td>\n",
              "      <td>4</td>\n",
              "      <td>9</td>\n",
              "      <td>6</td>\n",
              "      <td>7</td>\n",
              "      <td>7</td>\n",
              "      <td>10</td>\n",
              "      <td>11</td>\n",
              "      <td>3</td>\n",
              "      <td>9</td>\n",
              "      <td>1</td>\n",
              "      <td>8</td>\n",
              "      <td>U</td>\n",
              "    </tr>\n",
              "  </tbody>\n",
              "</table>\n",
              "</div>"
            ],
            "text/plain": [
              "   x-box  y-box  width  high  onpix  ...  x-ege  xegvy  y-ege  yegvx  letter\n",
              "0      4      7      5     5      4  ...      3      7      3      7       N\n",
              "1      3      9      4     7      2  ...      3      9      0      8       U\n",
              "2      3      3      4     4      1  ...      3      8      4      8       X\n",
              "3      4      5      5     4      5  ...      5     10      9     10       S\n",
              "4      6      9      8     7      5  ...      3      9      1      8       U\n",
              "\n",
              "[5 rows x 17 columns]"
            ]
          },
          "metadata": {
            "tags": []
          },
          "execution_count": 8
        }
      ]
    },
    {
      "cell_type": "code",
      "metadata": {
        "colab": {
          "base_uri": "https://localhost:8080/"
        },
        "id": "fuUl66nJwZis",
        "outputId": "c43aa195-8db3-4aac-d73c-8ccb27a045ee"
      },
      "source": [
        "df.shape"
      ],
      "execution_count": null,
      "outputs": [
        {
          "output_type": "execute_result",
          "data": {
            "text/plain": [
              "(13000, 17)"
            ]
          },
          "metadata": {
            "tags": []
          },
          "execution_count": 9
        }
      ]
    },
    {
      "cell_type": "code",
      "metadata": {
        "colab": {
          "base_uri": "https://localhost:8080/"
        },
        "id": "CcRCCyHywUtM",
        "outputId": "db17f84e-9cb5-4f42-a0dc-52ec0aa4829e"
      },
      "source": [
        "#only y onehot encoded\n",
        "one_hot_dict={\"letter\": sorted(df[\"letter\"].unique())}\n",
        "print(one_hot_dict)"
      ],
      "execution_count": null,
      "outputs": [
        {
          "output_type": "stream",
          "text": [
            "{'letter': ['A', 'B', 'C', 'D', 'E', 'F', 'G', 'H', 'I', 'J', 'K', 'L', 'M', 'N', 'O', 'P', 'Q', 'R', 'S', 'T', 'U', 'V', 'W', 'X', 'Y', 'Z']}\n"
          ],
          "name": "stdout"
        }
      ]
    },
    {
      "cell_type": "code",
      "metadata": {
        "id": "Y_n_Lj1ny0MC",
        "colab": {
          "base_uri": "https://localhost:8080/"
        },
        "outputId": "9f032fc0-9859-40f9-b82c-06090413b727"
      },
      "source": [
        "for col in df.columns:\n",
        "  print(len(df[col].unique()))\n",
        "#we might onehot encode all columns, tbd"
      ],
      "execution_count": null,
      "outputs": [
        {
          "output_type": "stream",
          "text": [
            "16\n",
            "16\n",
            "16\n",
            "16\n",
            "16\n",
            "16\n",
            "16\n",
            "16\n",
            "16\n",
            "16\n",
            "16\n",
            "16\n",
            "16\n",
            "16\n",
            "16\n",
            "16\n",
            "26\n"
          ],
          "name": "stdout"
        }
      ]
    },
    {
      "cell_type": "code",
      "metadata": {
        "id": "fhxRk1laxv2W"
      },
      "source": [
        "def preprocess(df):\n",
        "  col_and_type_dict = {\n",
        "      #fill if we encod each columns\n",
        "  }\n",
        "\n",
        "  for col_name in col_and_type_dict.keys():\n",
        "      df = one_hot(df, col_name, col_and_type_dict[col_name])\n",
        "  return normalize(df)"
      ],
      "execution_count": null,
      "outputs": []
    },
    {
      "cell_type": "code",
      "metadata": {
        "id": "bhpT9s4zwf0c",
        "colab": {
          "base_uri": "https://localhost:8080/"
        },
        "outputId": "fc18394e-92c2-4009-9bea-8b5c5f867451"
      },
      "source": [
        "x_train = df.drop(\"letter\" ,axis=1)\n",
        "y_train = df[[\"letter\"]]\n",
        "x_val = df_val.drop(\"letter\" ,axis=1)\n",
        "y_val = df_val[[\"letter\"]]\n",
        "\n",
        "y_train = one_hot(y_train, \"letter\", one_hot_dict[\"letter\"])\n",
        "y_val = one_hot(y_val, \"letter\", one_hot_dict[\"letter\"])\n",
        "\n",
        "y_train = y_train.to_numpy()\n",
        "y_val = y_val.to_numpy()"
      ],
      "execution_count": null,
      "outputs": [
        {
          "output_type": "stream",
          "text": [
            "/usr/local/lib/python3.7/dist-packages/ipykernel_launcher.py:9: SettingWithCopyWarning: \n",
            "A value is trying to be set on a copy of a slice from a DataFrame.\n",
            "Try using .loc[row_indexer,col_indexer] = value instead\n",
            "\n",
            "See the caveats in the documentation: https://pandas.pydata.org/pandas-docs/stable/user_guide/indexing.html#returning-a-view-versus-a-copy\n",
            "  if __name__ == '__main__':\n"
          ],
          "name": "stderr"
        }
      ]
    },
    {
      "cell_type": "code",
      "metadata": {
        "id": "weQ_kxNV1Rtj"
      },
      "source": [
        "phase = \"train\"\n",
        "x_train = preprocess(x_train)\n",
        "\n",
        "phase=\"validation\"\n",
        "x_val = preprocess(x_val)"
      ],
      "execution_count": null,
      "outputs": []
    },
    {
      "cell_type": "code",
      "metadata": {
        "colab": {
          "base_uri": "https://localhost:8080/"
        },
        "id": "xXl0amw_xSRu",
        "outputId": "156c736d-a4f6-4f60-c9e6-cdfde2f86148"
      },
      "source": [
        "print(x_train.shape, x_val.shape, y_train.shape, y_val.shape)"
      ],
      "execution_count": null,
      "outputs": [
        {
          "output_type": "stream",
          "text": [
            "(13000, 16) (3500, 16) (13000, 26) (3500, 26)\n"
          ],
          "name": "stdout"
        }
      ]
    },
    {
      "cell_type": "code",
      "metadata": {
        "colab": {
          "base_uri": "https://localhost:8080/"
        },
        "id": "qF3_Km9j2ltT",
        "outputId": "00be0ee1-6163-4ce3-8383-6569a4b16c04"
      },
      "source": [
        "class trainData(Dataset):\n",
        "    \n",
        "    def __init__(self, x_data, y_data):\n",
        "        self.x_data = x_data\n",
        "        self.y_data = y_data\n",
        "        \n",
        "    def __getitem__(self, index):\n",
        "        return self.x_data[index], self.y_data[index]\n",
        "        \n",
        "    def __len__ (self):\n",
        "        return len(self.x_data)\n",
        "\n",
        "\n",
        "train_data = trainData(torch.FloatTensor(x_train), torch.LongTensor(y_train))\n",
        "\n",
        "\n",
        "class testData(Dataset):\n",
        "    \n",
        "    def __init__(self, x_data,y_data):\n",
        "        self.x_data = x_data\n",
        "        self.y_data = y_data\n",
        "        \n",
        "    def __getitem__(self, index):\n",
        "        return self.x_data[index], self.y_data[index]  \n",
        "\n",
        "    def __len__ (self):\n",
        "        return len(self.x_data)\n",
        "\n",
        "val_data = testData(torch.FloatTensor(x_val),torch.LongTensor(y_val))\n",
        "\n",
        "print(\"Length of training data is: {}\".format(len(train_data)))\n",
        "print(\"Length of test data is: {}\".format(len(val_data)))"
      ],
      "execution_count": null,
      "outputs": [
        {
          "output_type": "stream",
          "text": [
            "Length of training data is: 13000\n",
            "Length of test data is: 3500\n"
          ],
          "name": "stdout"
        }
      ]
    },
    {
      "cell_type": "code",
      "metadata": {
        "id": "Ap6xXROj4CsO"
      },
      "source": [
        "BATCH_SIZE = 128\n",
        "\n",
        "train_loader = DataLoader(dataset=train_data, batch_size=BATCH_SIZE, shuffle=True)\n",
        "val_loader = DataLoader(dataset=val_data, batch_size=BATCH_SIZE)"
      ],
      "execution_count": null,
      "outputs": []
    },
    {
      "cell_type": "code",
      "metadata": {
        "id": "hC0JYEa54t6M"
      },
      "source": [
        "class MyNet(nn.Module):\n",
        "    def __init__(self):\n",
        "        super(MyNet, self).__init__()        \n",
        "        self.layer1 = nn.Linear(x_train.shape[1], 100)\n",
        "        self.layer2 = nn.Linear(100, 50)\n",
        "        self.layer3 = nn.Linear(50, y_train.shape[1])\n",
        "        self.bn2 = nn.BatchNorm1d(50)\n",
        "\n",
        "        self.relu1 = nn.ReLU()\n",
        "        self.relu2 = nn.ReLU()\n",
        "\n",
        "    def forward(self, input):\n",
        "        x = self.relu1(self.layer1(input))\n",
        "        x = F.dropout(x,0.3)\n",
        "        x = self.relu2(self.layer2(x))\n",
        "        # x = self.bn2(x)\n",
        "        # sampled_noise = torch.autograd.Variable(torch.randn(x.shape).to(device) * 0.01)\n",
        "        # x = x + sampled_noise\n",
        "        x = F.dropout(x,0.2)\n",
        "        x = self.layer3(x)\n",
        "        return x\n",
        "    \n",
        "    def forward_test(self, input):\n",
        "        x = self.relu1(self.layer1(input))\n",
        "        # x = F.dropout(x,0.3)\n",
        "        x = self.relu2(self.layer2(x))\n",
        "        x = self.bn2(x)\n",
        "        # sampled_noise = torch.autograd.Variable(torch.randn(x.shape).to(device) * 0.01)\n",
        "        # x = x + sampled_noise\n",
        "        # x = F.dropout(x,0.2)\n",
        "        x = self.layer3(x)\n",
        "        return x"
      ],
      "execution_count": null,
      "outputs": []
    },
    {
      "cell_type": "code",
      "metadata": {
        "id": "BCmQG7sX6H9P"
      },
      "source": [
        "device = torch.device('cuda' if torch.cuda.is_available() else 'cpu')\n",
        "model = MyNet()\n",
        "model.to(device)\n",
        "for layer in model.children():\n",
        "   if hasattr(layer, 'reset_parameters'):\n",
        "      layer.reset_parameters()"
      ],
      "execution_count": null,
      "outputs": []
    },
    {
      "cell_type": "code",
      "metadata": {
        "id": "wJEzgoP05G3I"
      },
      "source": [
        "train_losses = []\n",
        "train_accuracies = []\n",
        "val_losses = []\n",
        "val_accuracies = []"
      ],
      "execution_count": null,
      "outputs": []
    },
    {
      "cell_type": "code",
      "metadata": {
        "id": "xkNb9_3e6Mrr"
      },
      "source": [
        "EPOCHS = 1000\n",
        "LEARNING_RATE = 0.003\n",
        "optimizer = optim.SGD(model.parameters(), lr=LEARNING_RATE, momentum=0.5)\n",
        "optimizer.zero_grad()\n",
        "criterion = nn.CrossEntropyLoss()"
      ],
      "execution_count": null,
      "outputs": []
    },
    {
      "cell_type": "code",
      "metadata": {
        "colab": {
          "base_uri": "https://localhost:8080/"
        },
        "id": "LOivLs4h6iGD",
        "outputId": "417f050d-e4c0-4f71-d1e1-fb807ca9de9b"
      },
      "source": [
        "for e in range(EPOCHS):\n",
        "\n",
        "    model.train()\n",
        "    \n",
        "    epoch_loss = 0\n",
        "    correct = 0\n",
        "    total = 0\n",
        "    \n",
        "    for x_train_batch, y_train_batch in train_loader:\n",
        "        \n",
        "        x_train_batch, y_train_batch = x_train_batch.to(device), y_train_batch.to(device)\n",
        "        optimizer.zero_grad()\n",
        "\n",
        "        y_pred = model(x_train_batch)\n",
        "        y_target = torch.argmax(y_train_batch, axis=1).reshape(-1)\n",
        "        loss = criterion(y_pred, y_target)\n",
        "        loss.backward()\n",
        "        optimizer.step()\n",
        "\n",
        "        predicted = torch.argmax(F.softmax(y_pred.data), axis=1)\n",
        "\n",
        "        correct += (predicted == y_target).sum()\n",
        "        total += float(len(y_train_batch))\n",
        "        \n",
        "        epoch_loss += loss.item()\n",
        "    \n",
        "    train_accuracies.append(correct*100/total)\n",
        "    train_losses.append(epoch_loss/len(train_loader))\n",
        "\n",
        "    model.eval()\n",
        "    with torch.no_grad():\n",
        "        val_loss = 0\n",
        "        correct_val = 0\n",
        "        total_val = 0\n",
        "        for x_val_batch, y_val_batch in val_loader:\n",
        "            \n",
        "            x_val_batch, y_val_batch = x_val_batch.to(device), y_val_batch.to(device)\n",
        "\n",
        "            y_predval = model(x_val_batch)\n",
        "            y_target_val = torch.argmax(y_val_batch, axis=1).reshape(-1)\n",
        "            loss = criterion(y_predval,y_target_val)\n",
        "            \n",
        "            predicted = torch.argmax(F.softmax(y_predval), axis=1)\n",
        "            \n",
        "            correct_val += (predicted==y_target_val).sum()\n",
        "            total_val += float(len(y_val_batch))\n",
        "            val_loss += loss.item()\n",
        "\n",
        "    val_accuracies.append(float(correct_val*100/total_val))\n",
        "    val_losses.append(val_loss/len(val_loader))\n",
        "    if (e+1)%25==0:\n",
        "        print(f'Train Accuracy | Epoch {e+1:03}: | Loss: {epoch_loss/len(train_loader):.5f} | Acc: {correct*100/total:.3f}')\n",
        "        print(f'Valid Accuracy | Epoch {e+1:03}: | Loss: {val_loss/len(val_loader):.5f} | Acc: {correct_val*100/total_val:.3f}\\n')\n",
        "        \n",
        "    if val_losses[-1]==min(val_losses):\n",
        "       best_model = dcopy(model)\n",
        "    \n",
        "    patience=100\n",
        "    if e>patience:\n",
        "        if val_losses[-1]>max(val_losses[-patience:-1]):\n",
        "            break"
      ],
      "execution_count": null,
      "outputs": [
        {
          "output_type": "stream",
          "text": [
            "/usr/local/lib/python3.7/dist-packages/ipykernel_launcher.py:20: UserWarning: Implicit dimension choice for softmax has been deprecated. Change the call to include dim=X as an argument.\n",
            "/usr/local/lib/python3.7/dist-packages/ipykernel_launcher.py:43: UserWarning: Implicit dimension choice for softmax has been deprecated. Change the call to include dim=X as an argument.\n"
          ],
          "name": "stderr"
        },
        {
          "output_type": "stream",
          "text": [
            "Train Accuracy | Epoch 025: | Loss: 0.40759 | Acc: 86.846\n",
            "Valid Accuracy | Epoch 025: | Loss: 0.48734 | Acc: 84.743\n",
            "\n",
            "Train Accuracy | Epoch 050: | Loss: 0.40566 | Acc: 86.554\n",
            "Valid Accuracy | Epoch 050: | Loss: 0.48224 | Acc: 84.486\n",
            "\n",
            "Train Accuracy | Epoch 075: | Loss: 0.40593 | Acc: 86.646\n",
            "Valid Accuracy | Epoch 075: | Loss: 0.47067 | Acc: 85.286\n",
            "\n",
            "Train Accuracy | Epoch 100: | Loss: 0.40296 | Acc: 86.438\n",
            "Valid Accuracy | Epoch 100: | Loss: 0.46180 | Acc: 85.457\n",
            "\n",
            "Train Accuracy | Epoch 125: | Loss: 0.40094 | Acc: 86.962\n",
            "Valid Accuracy | Epoch 125: | Loss: 0.48734 | Acc: 84.429\n",
            "\n",
            "Train Accuracy | Epoch 150: | Loss: 0.40319 | Acc: 86.538\n",
            "Valid Accuracy | Epoch 150: | Loss: 0.47927 | Acc: 85.114\n",
            "\n",
            "Train Accuracy | Epoch 175: | Loss: 0.40545 | Acc: 86.877\n",
            "Valid Accuracy | Epoch 175: | Loss: 0.47188 | Acc: 85.143\n",
            "\n"
          ],
          "name": "stdout"
        }
      ]
    },
    {
      "cell_type": "code",
      "metadata": {
        "colab": {
          "base_uri": "https://localhost:8080/",
          "height": 283
        },
        "id": "WtT7kNiVB-so",
        "outputId": "168a08c7-4960-439e-8e56-19e71a4b0715"
      },
      "source": [
        "plt.plot(train_losses)\n",
        "plt.plot(val_losses)"
      ],
      "execution_count": null,
      "outputs": [
        {
          "output_type": "execute_result",
          "data": {
            "text/plain": [
              "[<matplotlib.lines.Line2D at 0x7fb47e409690>]"
            ]
          },
          "metadata": {
            "tags": []
          },
          "execution_count": 149
        },
        {
          "output_type": "display_data",
          "data": {
            "image/png": "[encoded data removed]",
            "text/plain": [
              "<Figure size 432x288 with 1 Axes>"
            ]
          },
          "metadata": {
            "tags": [],
            "needs_background": "light"
          }
        }
      ]
    },
    {
      "cell_type": "code",
      "metadata": {
        "id": "DghJwS0TTA8W"
      },
      "source": [
        "torch.save(model.state_dict(), \"mymodel01.6\")"
      ],
      "execution_count": null,
      "outputs": []
    },
    {
      "cell_type": "code",
      "metadata": {
        "id": "myK6pJfCB8kY"
      },
      "source": [
        "class MyNet01(nn.Module):\n",
        "    def __init__(self):\n",
        "        super(MyNet01, self).__init__()        \n",
        "        self.layer1 = nn.Linear(x_train.shape[1], 100)\n",
        "        self.layer2 = nn.Linear(100, 50)\n",
        "        self.layer3 = nn.Linear(50, y_train.shape[1])\n",
        "        self.bn2 = nn.BatchNorm1d(50)\n",
        "\n",
        "        self.relu1 = nn.ReLU()\n",
        "        self.relu2 = nn.ReLU()\n",
        "\n",
        "    def forward(self, input):\n",
        "        x = self.relu1(self.layer1(input))\n",
        "        x = F.dropout(x,0.3)\n",
        "        x = self.relu2(self.layer2(x))\n",
        "        # x = self.bn2(x)\n",
        "        # sampled_noise = torch.autograd.Variable(torch.randn(x.shape).to(device) * 0.01)\n",
        "        # x = x + sampled_noise\n",
        "        x = F.dropout(x,0.2)\n",
        "        x = self.layer3(x)\n",
        "        return x\n",
        "    \n",
        "    def forward_test(self, input):\n",
        "        x = self.relu1(self.layer1(input))\n",
        "        # x = F.dropout(x,0.3)\n",
        "        x = self.relu2(self.layer2(x))\n",
        "        x = self.bn2(x)\n",
        "        # sampled_noise = torch.autograd.Variable(torch.randn(x.shape).to(device) * 0.01)\n",
        "        # x = x + sampled_noise\n",
        "        # x = F.dropout(x,0.2)\n",
        "        x = self.layer3(x)\n",
        "        return x"
      ],
      "execution_count": null,
      "outputs": []
    },
    {
      "cell_type": "code",
      "metadata": {
        "colab": {
          "base_uri": "https://localhost:8080/"
        },
        "id": "z_HR8fJ4xzEu",
        "outputId": "91ff18a9-bf90-4b44-f112-159354d6a02e"
      },
      "source": [
        "best_model = MyNet01()\n",
        "best_model.load_state_dict(torch.load(\"mymodel01.6\"))\n",
        "best_model.to(device)"
      ],
      "execution_count": null,
      "outputs": [
        {
          "output_type": "execute_result",
          "data": {
            "text/plain": [
              "MyNet01(\n",
              "  (layer1): Linear(in_features=16, out_features=100, bias=True)\n",
              "  (layer2): Linear(in_features=100, out_features=50, bias=True)\n",
              "  (layer3): Linear(in_features=50, out_features=26, bias=True)\n",
              "  (bn2): BatchNorm1d(50, eps=1e-05, momentum=0.1, affine=True, track_running_stats=True)\n",
              "  (relu1): ReLU()\n",
              "  (relu2): ReLU()\n",
              ")"
            ]
          },
          "metadata": {
            "tags": []
          },
          "execution_count": 28
        }
      ]
    },
    {
      "cell_type": "code",
      "metadata": {
        "colab": {
          "base_uri": "https://localhost:8080/"
        },
        "id": "vekodLfR8QHC",
        "outputId": "13323658-a790-40ef-fea4-f2c834f1027d"
      },
      "source": [
        "best_model.eval()\n",
        "with torch.no_grad():\n",
        "  y_val_pred =best_model.forward_test(torch.FloatTensor(x_val).to(device))\n",
        "  y_val_pred = torch.argmax(F.softmax(y_val_pred), axis=1).cpu()\n",
        "  print(\"roc_auc\", roc_auc_score(y_val_pred, y_val, multi_class=\"ovr\"))\n",
        "  print(\"f1\", f1_score(y_val_pred, np.argmax(y_val, axis=1), average=\"macro\"))\n",
        "  print(\"acc\", (np.array(y_val_pred)==np.argmax(y_val, axis=1)).mean())\n",
        "\n",
        "for i in range(y_val.shape[1]):\n",
        "  acc, total = 0, 0\n",
        "  for j in range(y_val.shape[0]):\n",
        "    if np.argmax(y_val[j]) == i:\n",
        "      total+=1\n",
        "      if y_val_pred[j] == i:\n",
        "        acc+=1\n",
        "  # print(chr(ord('A')+i), acc/total)"
      ],
      "execution_count": null,
      "outputs": [
        {
          "output_type": "stream",
          "text": [
            "/usr/local/lib/python3.7/dist-packages/ipykernel_launcher.py:4: UserWarning: Implicit dimension choice for softmax has been deprecated. Change the call to include dim=X as an argument.\n",
            "  after removing the cwd from sys.path.\n"
          ],
          "name": "stderr"
        },
        {
          "output_type": "stream",
          "text": [
            "0.9651831721822229\n",
            "0.9305337462777759\n",
            "0.9314285714285714\n"
          ],
          "name": "stdout"
        }
      ]
    },
    {
      "cell_type": "code",
      "metadata": {
        "id": "Pyj6PKehekWX",
        "colab": {
          "base_uri": "https://localhost:8080/"
        },
        "outputId": "3b37267c-151d-4594-f99d-fd353dd9b353"
      },
      "source": [
        "df_test = pd.read_csv(\"test.csv\")\n",
        "\n",
        "phase=\"testing\"\n",
        "x_test = preprocess(df_test)\n",
        "\n",
        "print(x_test.shape)\n",
        "y_test = np.zeros(x_test.shape[0])\n",
        "test_data = testData(torch.FloatTensor(x_test),torch.FloatTensor(y_val))\n",
        "\n",
        "model.eval()\n",
        "with torch.no_grad():\n",
        "  y_test_pred = best_model.forward_test(torch.FloatTensor(x_test).to(device))\n",
        "  y_test_pred = torch.argmax(F.softmax(y_test_pred), axis=1).cpu()\n",
        "\n",
        "y_test_pred = np.array(y_test_pred).reshape(-1, 1)\n",
        "id_col = np.array(list(range(0, len(y_test_pred)))).reshape(-1, 1)\n",
        "\n",
        "np_test = np.concatenate((id_col, y_test_pred), axis=1)\n",
        "df_test = pd.DataFrame(np_test, index=None, columns=[\"id\", \"letters\"])\n",
        "df_test[\"letters\"] = df_test[\"letters\"].apply(lambda x: chr(ord('A')+x))"
      ],
      "execution_count": null,
      "outputs": [
        {
          "output_type": "stream",
          "text": [
            "(3500, 16)\n"
          ],
          "name": "stdout"
        },
        {
          "output_type": "stream",
          "text": [
            "/usr/local/lib/python3.7/dist-packages/ipykernel_launcher.py:13: UserWarning: Implicit dimension choice for softmax has been deprecated. Change the call to include dim=X as an argument.\n",
            "  del sys.path[0]\n"
          ],
          "name": "stderr"
        }
      ]
    },
    {
      "cell_type": "code",
      "metadata": {
        "colab": {
          "base_uri": "https://localhost:8080/",
          "height": 202
        },
        "id": "SiD7Na_y0fF7",
        "outputId": "c7dd1839-f911-4f54-f905-b4d3c7fa62ca"
      },
      "source": [
        "df_test.head()"
      ],
      "execution_count": null,
      "outputs": [
        {
          "output_type": "execute_result",
          "data": {
            "text/html": [
              "<div>\n",
              "<style scoped>\n",
              "    .dataframe tbody tr th:only-of-type {\n",
              "        vertical-align: middle;\n",
              "    }\n",
              "\n",
              "    .dataframe tbody tr th {\n",
              "        vertical-align: top;\n",
              "    }\n",
              "\n",
              "    .dataframe thead th {\n",
              "        text-align: right;\n",
              "    }\n",
              "</style>\n",
              "<table border=\"1\" class=\"dataframe\">\n",
              "  <thead>\n",
              "    <tr style=\"text-align: right;\">\n",
              "      <th></th>\n",
              "      <th>id</th>\n",
              "      <th>letters</th>\n",
              "    </tr>\n",
              "  </thead>\n",
              "  <tbody>\n",
              "    <tr>\n",
              "      <th>0</th>\n",
              "      <td>0</td>\n",
              "      <td>N</td>\n",
              "    </tr>\n",
              "    <tr>\n",
              "      <th>1</th>\n",
              "      <td>1</td>\n",
              "      <td>O</td>\n",
              "    </tr>\n",
              "    <tr>\n",
              "      <th>2</th>\n",
              "      <td>2</td>\n",
              "      <td>O</td>\n",
              "    </tr>\n",
              "    <tr>\n",
              "      <th>3</th>\n",
              "      <td>3</td>\n",
              "      <td>P</td>\n",
              "    </tr>\n",
              "    <tr>\n",
              "      <th>4</th>\n",
              "      <td>4</td>\n",
              "      <td>G</td>\n",
              "    </tr>\n",
              "  </tbody>\n",
              "</table>\n",
              "</div>"
            ],
            "text/plain": [
              "   id letters\n",
              "0   0       N\n",
              "1   1       O\n",
              "2   2       O\n",
              "3   3       P\n",
              "4   4       G"
            ]
          },
          "metadata": {
            "tags": []
          },
          "execution_count": 34
        }
      ]
    },
    {
      "cell_type": "code",
      "metadata": {
        "id": "c0P-cx6yMEeV"
      },
      "source": [
        "df_test.to_csv(\"test_pred.csv\", index=None)"
      ],
      "execution_count": null,
      "outputs": []
    },
    {
      "cell_type": "code",
      "metadata": {
        "id": "iJTQJAf6NEP0"
      },
      "source": [
        ""
      ],
      "execution_count": null,
      "outputs": []
    }
  ]
}